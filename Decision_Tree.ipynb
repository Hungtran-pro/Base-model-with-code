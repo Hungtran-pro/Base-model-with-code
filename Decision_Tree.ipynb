{
  "nbformat": 4,
  "nbformat_minor": 0,
  "metadata": {
    "colab": {
      "name": "Decision_Tree.ipynb",
      "provenance": [],
      "collapsed_sections": [],
      "mount_file_id": "1dmpxWMLuu02Ml8VSwRdkvlw4-jiH953t",
      "authorship_tag": "ABX9TyOoM/SPhHAdTbzUEh7k5alk",
      "include_colab_link": true
    },
    "kernelspec": {
      "name": "python3",
      "display_name": "Python 3"
    },
    "language_info": {
      "name": "python"
    }
  },
  "cells": [
    {
      "cell_type": "markdown",
      "metadata": {
        "id": "view-in-github",
        "colab_type": "text"
      },
      "source": [
        "<a href=\"https://colab.research.google.com/github/Hungtran-pro/codeCoursera/blob/main/Decision_Tree.ipynb\" target=\"_parent\"><img src=\"https://colab.research.google.com/assets/colab-badge.svg\" alt=\"Open In Colab\"/></a>"
      ]
    },
    {
      "cell_type": "code",
      "execution_count": null,
      "metadata": {
        "id": "_mJP3Hg57gqc"
      },
      "outputs": [],
      "source": [
        "import pandas as pd\n",
        "import numpy as np"
      ]
    },
    {
      "cell_type": "code",
      "source": [
        "df = pd.read_csv(\"/content/drive/MyDrive/AI projects/AI NAVER/play_tennis.csv\")"
      ],
      "metadata": {
        "id": "uwtC-_rRCCxh"
      },
      "execution_count": null,
      "outputs": []
    },
    {
      "cell_type": "code",
      "source": [
        "df"
      ],
      "metadata": {
        "colab": {
          "base_uri": "https://localhost:8080/",
          "height": 488
        },
        "id": "rcsTWjcBCUEi",
        "outputId": "e735afff-3933-478c-e66f-7b24212d00bb"
      },
      "execution_count": null,
      "outputs": [
        {
          "output_type": "execute_result",
          "data": {
            "text/plain": [
              "     Outlook Temperature Humidity    Wind Play Tennis\n",
              "0      Sunny         Hot     High    Weak          No\n",
              "1      Sunny         Hot     High  Strong          No\n",
              "2   Overcast         Hot     High    Weak         Yes\n",
              "3       Rain        Mild     High    Weak         Yes\n",
              "4       Rain        Cool   Normal    Weak         Yes\n",
              "5       Rain        Cool   Normal  Strong          No\n",
              "6   Overcast        Cool   Normal  Strong         Yes\n",
              "7      Sunny        Mild     High    Weak          No\n",
              "8      Sunny        Cool   Normal    Weak         Yes\n",
              "9       Rain        Mild   Normal    Weak         Yes\n",
              "10     Sunny        Mild   Normal  Strong         Yes\n",
              "11  Overcast        Mild     High  Strong         Yes\n",
              "12  Overcast         Hot   Normal    Weak         Yes\n",
              "13      Rain        Mild     High  Strong          No"
            ],
            "text/html": [
              "\n",
              "  <div id=\"df-18760284-a84a-4316-8574-84f9a9d1127e\">\n",
              "    <div class=\"colab-df-container\">\n",
              "      <div>\n",
              "<style scoped>\n",
              "    .dataframe tbody tr th:only-of-type {\n",
              "        vertical-align: middle;\n",
              "    }\n",
              "\n",
              "    .dataframe tbody tr th {\n",
              "        vertical-align: top;\n",
              "    }\n",
              "\n",
              "    .dataframe thead th {\n",
              "        text-align: right;\n",
              "    }\n",
              "</style>\n",
              "<table border=\"1\" class=\"dataframe\">\n",
              "  <thead>\n",
              "    <tr style=\"text-align: right;\">\n",
              "      <th></th>\n",
              "      <th>Outlook</th>\n",
              "      <th>Temperature</th>\n",
              "      <th>Humidity</th>\n",
              "      <th>Wind</th>\n",
              "      <th>Play Tennis</th>\n",
              "    </tr>\n",
              "  </thead>\n",
              "  <tbody>\n",
              "    <tr>\n",
              "      <th>0</th>\n",
              "      <td>Sunny</td>\n",
              "      <td>Hot</td>\n",
              "      <td>High</td>\n",
              "      <td>Weak</td>\n",
              "      <td>No</td>\n",
              "    </tr>\n",
              "    <tr>\n",
              "      <th>1</th>\n",
              "      <td>Sunny</td>\n",
              "      <td>Hot</td>\n",
              "      <td>High</td>\n",
              "      <td>Strong</td>\n",
              "      <td>No</td>\n",
              "    </tr>\n",
              "    <tr>\n",
              "      <th>2</th>\n",
              "      <td>Overcast</td>\n",
              "      <td>Hot</td>\n",
              "      <td>High</td>\n",
              "      <td>Weak</td>\n",
              "      <td>Yes</td>\n",
              "    </tr>\n",
              "    <tr>\n",
              "      <th>3</th>\n",
              "      <td>Rain</td>\n",
              "      <td>Mild</td>\n",
              "      <td>High</td>\n",
              "      <td>Weak</td>\n",
              "      <td>Yes</td>\n",
              "    </tr>\n",
              "    <tr>\n",
              "      <th>4</th>\n",
              "      <td>Rain</td>\n",
              "      <td>Cool</td>\n",
              "      <td>Normal</td>\n",
              "      <td>Weak</td>\n",
              "      <td>Yes</td>\n",
              "    </tr>\n",
              "    <tr>\n",
              "      <th>5</th>\n",
              "      <td>Rain</td>\n",
              "      <td>Cool</td>\n",
              "      <td>Normal</td>\n",
              "      <td>Strong</td>\n",
              "      <td>No</td>\n",
              "    </tr>\n",
              "    <tr>\n",
              "      <th>6</th>\n",
              "      <td>Overcast</td>\n",
              "      <td>Cool</td>\n",
              "      <td>Normal</td>\n",
              "      <td>Strong</td>\n",
              "      <td>Yes</td>\n",
              "    </tr>\n",
              "    <tr>\n",
              "      <th>7</th>\n",
              "      <td>Sunny</td>\n",
              "      <td>Mild</td>\n",
              "      <td>High</td>\n",
              "      <td>Weak</td>\n",
              "      <td>No</td>\n",
              "    </tr>\n",
              "    <tr>\n",
              "      <th>8</th>\n",
              "      <td>Sunny</td>\n",
              "      <td>Cool</td>\n",
              "      <td>Normal</td>\n",
              "      <td>Weak</td>\n",
              "      <td>Yes</td>\n",
              "    </tr>\n",
              "    <tr>\n",
              "      <th>9</th>\n",
              "      <td>Rain</td>\n",
              "      <td>Mild</td>\n",
              "      <td>Normal</td>\n",
              "      <td>Weak</td>\n",
              "      <td>Yes</td>\n",
              "    </tr>\n",
              "    <tr>\n",
              "      <th>10</th>\n",
              "      <td>Sunny</td>\n",
              "      <td>Mild</td>\n",
              "      <td>Normal</td>\n",
              "      <td>Strong</td>\n",
              "      <td>Yes</td>\n",
              "    </tr>\n",
              "    <tr>\n",
              "      <th>11</th>\n",
              "      <td>Overcast</td>\n",
              "      <td>Mild</td>\n",
              "      <td>High</td>\n",
              "      <td>Strong</td>\n",
              "      <td>Yes</td>\n",
              "    </tr>\n",
              "    <tr>\n",
              "      <th>12</th>\n",
              "      <td>Overcast</td>\n",
              "      <td>Hot</td>\n",
              "      <td>Normal</td>\n",
              "      <td>Weak</td>\n",
              "      <td>Yes</td>\n",
              "    </tr>\n",
              "    <tr>\n",
              "      <th>13</th>\n",
              "      <td>Rain</td>\n",
              "      <td>Mild</td>\n",
              "      <td>High</td>\n",
              "      <td>Strong</td>\n",
              "      <td>No</td>\n",
              "    </tr>\n",
              "  </tbody>\n",
              "</table>\n",
              "</div>\n",
              "      <button class=\"colab-df-convert\" onclick=\"convertToInteractive('df-18760284-a84a-4316-8574-84f9a9d1127e')\"\n",
              "              title=\"Convert this dataframe to an interactive table.\"\n",
              "              style=\"display:none;\">\n",
              "        \n",
              "  <svg xmlns=\"http://www.w3.org/2000/svg\" height=\"24px\"viewBox=\"0 0 24 24\"\n",
              "       width=\"24px\">\n",
              "    <path d=\"M0 0h24v24H0V0z\" fill=\"none\"/>\n",
              "    <path d=\"M18.56 5.44l.94 2.06.94-2.06 2.06-.94-2.06-.94-.94-2.06-.94 2.06-2.06.94zm-11 1L8.5 8.5l.94-2.06 2.06-.94-2.06-.94L8.5 2.5l-.94 2.06-2.06.94zm10 10l.94 2.06.94-2.06 2.06-.94-2.06-.94-.94-2.06-.94 2.06-2.06.94z\"/><path d=\"M17.41 7.96l-1.37-1.37c-.4-.4-.92-.59-1.43-.59-.52 0-1.04.2-1.43.59L10.3 9.45l-7.72 7.72c-.78.78-.78 2.05 0 2.83L4 21.41c.39.39.9.59 1.41.59.51 0 1.02-.2 1.41-.59l7.78-7.78 2.81-2.81c.8-.78.8-2.07 0-2.86zM5.41 20L4 18.59l7.72-7.72 1.47 1.35L5.41 20z\"/>\n",
              "  </svg>\n",
              "      </button>\n",
              "      \n",
              "  <style>\n",
              "    .colab-df-container {\n",
              "      display:flex;\n",
              "      flex-wrap:wrap;\n",
              "      gap: 12px;\n",
              "    }\n",
              "\n",
              "    .colab-df-convert {\n",
              "      background-color: #E8F0FE;\n",
              "      border: none;\n",
              "      border-radius: 50%;\n",
              "      cursor: pointer;\n",
              "      display: none;\n",
              "      fill: #1967D2;\n",
              "      height: 32px;\n",
              "      padding: 0 0 0 0;\n",
              "      width: 32px;\n",
              "    }\n",
              "\n",
              "    .colab-df-convert:hover {\n",
              "      background-color: #E2EBFA;\n",
              "      box-shadow: 0px 1px 2px rgba(60, 64, 67, 0.3), 0px 1px 3px 1px rgba(60, 64, 67, 0.15);\n",
              "      fill: #174EA6;\n",
              "    }\n",
              "\n",
              "    [theme=dark] .colab-df-convert {\n",
              "      background-color: #3B4455;\n",
              "      fill: #D2E3FC;\n",
              "    }\n",
              "\n",
              "    [theme=dark] .colab-df-convert:hover {\n",
              "      background-color: #434B5C;\n",
              "      box-shadow: 0px 1px 3px 1px rgba(0, 0, 0, 0.15);\n",
              "      filter: drop-shadow(0px 1px 2px rgba(0, 0, 0, 0.3));\n",
              "      fill: #FFFFFF;\n",
              "    }\n",
              "  </style>\n",
              "\n",
              "      <script>\n",
              "        const buttonEl =\n",
              "          document.querySelector('#df-18760284-a84a-4316-8574-84f9a9d1127e button.colab-df-convert');\n",
              "        buttonEl.style.display =\n",
              "          google.colab.kernel.accessAllowed ? 'block' : 'none';\n",
              "\n",
              "        async function convertToInteractive(key) {\n",
              "          const element = document.querySelector('#df-18760284-a84a-4316-8574-84f9a9d1127e');\n",
              "          const dataTable =\n",
              "            await google.colab.kernel.invokeFunction('convertToInteractive',\n",
              "                                                     [key], {});\n",
              "          if (!dataTable) return;\n",
              "\n",
              "          const docLinkHtml = 'Like what you see? Visit the ' +\n",
              "            '<a target=\"_blank\" href=https://colab.research.google.com/notebooks/data_table.ipynb>data table notebook</a>'\n",
              "            + ' to learn more about interactive tables.';\n",
              "          element.innerHTML = '';\n",
              "          dataTable['output_type'] = 'display_data';\n",
              "          await google.colab.output.renderOutput(dataTable, element);\n",
              "          const docLink = document.createElement('div');\n",
              "          docLink.innerHTML = docLinkHtml;\n",
              "          element.appendChild(docLink);\n",
              "        }\n",
              "      </script>\n",
              "    </div>\n",
              "  </div>\n",
              "  "
            ]
          },
          "metadata": {},
          "execution_count": 25
        }
      ]
    },
    {
      "cell_type": "code",
      "source": [
        "def calc_entropy(feature_data, label, class_list):\n",
        "  '''\n",
        "  Return a calculation of entropy\n",
        "  Entropy(S) = sum (-p_i * log(p_i))\n",
        "  '''\n",
        "  total_row = feature_data.shape[0]\n",
        "  entropy = 0.0\n",
        "  \n",
        "  for c in class_list:\n",
        "    total_c = feature_data[feature_data[label] == c].shape[0]\n",
        "\n",
        "    entropy_c = 0.0\n",
        "    if total_c != 0:\n",
        "      prob_c = total_c / total_row\n",
        "      entropy_c = - prob_c * np.log2(prob_c) \n",
        "    \n",
        "    entropy += entropy_c\n",
        "      \n",
        "  return entropy"
      ],
      "metadata": {
        "id": "nNaHpSPKLyQs"
      },
      "execution_count": null,
      "outputs": []
    },
    {
      "cell_type": "code",
      "source": [
        "def calc_IG(feature_name, train_data, label, class_list):\n",
        "    '''\n",
        "    Return IG(feature, values of the feature)\n",
        "    IG(S,A) = Entropy(S) - sum( (Sv/S) * Entropy(Sv))\n",
        "    '''\n",
        "    features_list = train_data[feature_name].unique()\n",
        "    total_row = train_data.shape[0]\n",
        "    entropy_features = 0.0\n",
        "    \n",
        "    for feature in features_list:\n",
        "        feature_data = train_data[train_data[feature_name] == feature]\n",
        "        feature_count = feature_data.shape[0]\n",
        "        feature_entropy = calc_entropy(feature_data, label, class_list)\n",
        "        feature_normalization = feature_count / total_row\n",
        "        entropy_features += feature_normalization * feature_entropy\n",
        "        \n",
        "    return calc_entropy(train_data, label, class_list) - entropy_features"
      ],
      "metadata": {
        "id": "0IZoUGNILz1y"
      },
      "execution_count": null,
      "outputs": []
    },
    {
      "cell_type": "code",
      "source": [
        "def find_most_IG_feature(train_data, label, class_list):\n",
        "  '''\n",
        "  Return features regarding the highest IG (Information Gain)\n",
        "  '''\n",
        "  features_list = train_data.columns.drop(label) #Return all left features without the current features\n",
        "  max_IG = -1\n",
        "  best_feature = None\n",
        "\n",
        "  for feature in features_list:  \n",
        "    feature_IG = calc_IG(feature, train_data, label, class_list)\n",
        "    if max_IG < feature_IG:\n",
        "      max_IG = feature_IG\n",
        "      best_feature = feature\n",
        "        \n",
        "  return best_feature"
      ],
      "metadata": {
        "id": "x8dNHQqrL1aK"
      },
      "execution_count": null,
      "outputs": []
    },
    {
      "cell_type": "code",
      "source": [
        "def generate_sub_tree(feature_name, train_data, label, class_list):\n",
        "  '''\n",
        "  Generate a sub tree\n",
        "  '''\n",
        "  features_count_dict = train_data[feature_name].value_counts(sort=False)\n",
        "  tree = dict()\n",
        "  for feature, count in features_count_dict.iteritems():\n",
        "    feature_data = train_data[train_data[feature_name] == feature] #Get a data with relative feature\n",
        "    assigned_to_node = False\n",
        "    for c in class_list:\n",
        "      total_c = feature_data[feature_data[label] == c].shape[0]\n",
        "\n",
        "      if total_c == count:\n",
        "        tree[feature] = c\n",
        "        train_data = train_data[train_data[feature_name] != feature] #Eliminate feature from the dataset\n",
        "        assigned_to_node = True\n",
        "    if not assigned_to_node:\n",
        "      tree[feature] = \"?\"\n",
        "  return tree, train_data"
      ],
      "metadata": {
        "id": "RC7CbjYOL2_E"
      },
      "execution_count": null,
      "outputs": []
    },
    {
      "cell_type": "code",
      "source": [
        "def make_tree(root, parent_node, train_data, label, class_list):\n",
        "  '''\n",
        "  Create a tree\n",
        "  '''\n",
        "  if train_data.shape[0] != 0:\n",
        "      best_feature = find_most_IG_feature(train_data, label, class_list)\n",
        "      tree, train_data = generate_sub_tree(best_feature, train_data, label, class_list)\n",
        "      \n",
        "      if parent_node != None:\n",
        "          root[parent_node] = dict()\n",
        "          root[parent_node][best_feature] = tree\n",
        "          next_root = root[parent_node][best_feature]\n",
        "      else:\n",
        "          root[best_feature] = tree\n",
        "          next_root = root[best_feature]\n",
        "      \n",
        "      for node, branch in list(next_root.items()):\n",
        "          if branch == \"?\":\n",
        "              feature_data = train_data[train_data[best_feature] == node]\n",
        "              make_tree(next_root, node, feature_data, label, class_list)"
      ],
      "metadata": {
        "id": "h0ZpkEgJExdS"
      },
      "execution_count": null,
      "outputs": []
    },
    {
      "cell_type": "code",
      "source": [
        "#Create a tree\n",
        "def pre_build(df, label):\n",
        "  '''\n",
        "  Initialize required infor\n",
        "  '''\n",
        "  tree = dict()\n",
        "  train_data = df.copy()\n",
        "  class_list = train_data[label].unique() # Get unique values based on a hash table\n",
        "  #Respect to \"Play Tennis\" return array([\"Yes\" \"No\"])\n",
        "  make_tree(tree, None, train_data, label, class_list)\n",
        "\n",
        "  return tree"
      ],
      "metadata": {
        "id": "rhQ0VtQACpji"
      },
      "execution_count": null,
      "outputs": []
    },
    {
      "cell_type": "code",
      "source": [
        "pre_build(df, \"Play Tennis\")"
      ],
      "metadata": {
        "colab": {
          "base_uri": "https://localhost:8080/"
        },
        "id": "Rta9kMXlEGtU",
        "outputId": "0a9a1584-cdb6-48f7-e7e1-d320db315aed"
      },
      "execution_count": null,
      "outputs": [
        {
          "output_type": "execute_result",
          "data": {
            "text/plain": [
              "{'Outlook': {'Overcast': 'Yes',\n",
              "  'Rain': {'Wind': {'Strong': 'No', 'Weak': 'Yes'}},\n",
              "  'Sunny': {'Humidity': {'High': 'No', 'Normal': 'Yes'}}}}"
            ]
          },
          "metadata": {},
          "execution_count": 67
        }
      ]
    },
    {
      "cell_type": "code",
      "source": [
        ""
      ],
      "metadata": {
        "id": "c113K4O_EIQ0"
      },
      "execution_count": null,
      "outputs": []
    }
  ]
}