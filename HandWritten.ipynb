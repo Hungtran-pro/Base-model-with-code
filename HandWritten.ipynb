{
  "nbformat": 4,
  "nbformat_minor": 0,
  "metadata": {
    "colab": {
      "name": "HandWritten.ipynb",
      "provenance": [],
      "collapsed_sections": [],
      "authorship_tag": "ABX9TyP+M0l35pQOyMKno7Uski57",
      "include_colab_link": true
    },
    "kernelspec": {
      "name": "python3",
      "display_name": "Python 3"
    },
    "language_info": {
      "name": "python"
    }
  },
  "cells": [
    {
      "cell_type": "markdown",
      "metadata": {
        "id": "view-in-github",
        "colab_type": "text"
      },
      "source": [
        "<a href=\"https://colab.research.google.com/github/Hungtran-pro/codeCoursera/blob/main/HandWritten.ipynb\" target=\"_parent\"><img src=\"https://colab.research.google.com/assets/colab-badge.svg\" alt=\"Open In Colab\"/></a>"
      ]
    },
    {
      "cell_type": "code",
      "execution_count": null,
      "metadata": {
        "id": "8ZdCF94OjYM6"
      },
      "outputs": [],
      "source": [
        "import numpy as np\n",
        "import tensorflow as tf\n",
        "import matplotlib.pyplot as plt\n"
      ]
    },
    {
      "cell_type": "code",
      "source": [
        "(train_x, train_labels), (test_x, test_labels) = tf.keras.datasets.mnist.load_data()"
      ],
      "metadata": {
        "colab": {
          "base_uri": "https://localhost:8080/"
        },
        "id": "nvfZQ0RF21zM",
        "outputId": "70d8a85a-e280-43ba-d257-8bb04489df4a"
      },
      "execution_count": null,
      "outputs": [
        {
          "output_type": "stream",
          "name": "stdout",
          "text": [
            "Downloading data from https://storage.googleapis.com/tensorflow/tf-keras-datasets/mnist.npz\n",
            "11493376/11490434 [==============================] - 0s 0us/step\n",
            "11501568/11490434 [==============================] - 0s 0us/step\n"
          ]
        }
      ]
    },
    {
      "cell_type": "code",
      "source": [
        "def reshape_and_normalize(images): \n",
        "  images = np.reshape(images, (images.shape[0], images.shape[1], images.shape[2], 1)) \n",
        "  images = np.divide(images, 255.0) \n",
        "  return images"
      ],
      "metadata": {
        "id": "Vq8YQgFz3g4O"
      },
      "execution_count": null,
      "outputs": []
    },
    {
      "cell_type": "code",
      "source": [
        "training_images = reshape_and_normalize(train_x)\n",
        "test_images = reshape_and_normalize(test_x)"
      ],
      "metadata": {
        "id": "feHRlCNc3mWM"
      },
      "execution_count": null,
      "outputs": []
    },
    {
      "cell_type": "code",
      "source": [
        "model = tf.keras.models.Sequential([\n",
        "    tf.keras.layers.Conv2D(16, (3,3), activation='relu', input_shape= (28, 28, 1)),\n",
        "    tf.keras.layers.MaxPool2D(2, 2),\n",
        "    tf.keras.layers.Conv2D(32, (3, 3), activation='relu'),\n",
        "    tf.keras.layers.MaxPool2D(2, 2),\n",
        "    tf.keras.layers.Flatten(),\n",
        "    tf.keras.layers.Dense(256, activation='relu'),\n",
        "    tf.keras.layers.Dense(10, activation='softmax')\n",
        "])\n",
        "\n",
        "model.compile(\n",
        "    loss='sparse_categorical_crossentropy',\n",
        "    # batch_size = 10,\n",
        "    optimizer=tf.keras.optimizers.Adam(),\n",
        "    metrics=['accuracy']\n",
        ")\n",
        "\n",
        "history = model.fit(training_images, train_labels, epochs=10, steps_per_epoch=10)\n",
        "\n",
        "results = model.evaluate(test_images, test_labels)"
      ],
      "metadata": {
        "id": "83QfMfLWlGdt",
        "colab": {
          "base_uri": "https://localhost:8080/"
        },
        "outputId": "409f1a1b-741e-4053-974f-19ed4bfe014e"
      },
      "execution_count": null,
      "outputs": [
        {
          "output_type": "stream",
          "name": "stdout",
          "text": [
            "Epoch 1/10\n",
            "10/10 [==============================] - 19s 2s/step - loss: 1.8667 - accuracy: 0.5691\n",
            "Epoch 2/10\n",
            "10/10 [==============================] - 19s 2s/step - loss: 0.8003 - accuracy: 0.8187\n",
            "Epoch 3/10\n",
            "10/10 [==============================] - 18s 2s/step - loss: 0.4023 - accuracy: 0.8811\n",
            "Epoch 4/10\n",
            "10/10 [==============================] - 18s 2s/step - loss: 0.2990 - accuracy: 0.9123\n",
            "Epoch 5/10\n",
            "10/10 [==============================] - 18s 2s/step - loss: 0.2378 - accuracy: 0.9301\n",
            "Epoch 6/10\n",
            "10/10 [==============================] - 18s 2s/step - loss: 0.1949 - accuracy: 0.9420\n",
            "Epoch 7/10\n",
            "10/10 [==============================] - 18s 2s/step - loss: 0.1645 - accuracy: 0.9516\n",
            "Epoch 8/10\n",
            "10/10 [==============================] - 18s 2s/step - loss: 0.1417 - accuracy: 0.9589\n",
            "Epoch 9/10\n",
            "10/10 [==============================] - 18s 2s/step - loss: 0.1245 - accuracy: 0.9639\n",
            "Epoch 10/10\n",
            "10/10 [==============================] - 19s 2s/step - loss: 0.1102 - accuracy: 0.9684\n",
            "313/313 [==============================] - 2s 6ms/step - loss: 0.0957 - accuracy: 0.9724\n"
          ]
        }
      ]
    }
  ]
}